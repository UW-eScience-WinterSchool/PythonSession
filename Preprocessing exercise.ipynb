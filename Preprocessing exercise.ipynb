{
 "cells": [
  {
   "cell_type": "markdown",
   "id": "worldwide-yemen",
   "metadata": {},
   "source": [
    "### 1. Collect the data"
   ]
  },
  {
   "cell_type": "code",
   "execution_count": null,
   "id": "pharmaceutical-middle",
   "metadata": {},
   "outputs": [],
   "source": [
    "import pandas as pd\n",
    "\n",
    "linkWiki=\"https://en.wikipedia.org/wiki/Democracy_Index\"\n",
    "democracy=pd.read_html(linkWiki, header=0,attrs={\"class\":\"wikitable sortable\"})[4]\n",
    "\n",
    "linkmil=\"https://www.cia.gov/the-world-factbook/field/military-expenditures/country-comparison\"\n",
    "\n",
    "milimoney=pd.read_html(linkmil)[0]\n",
    "\n",
    "linkHDI=\"https://github.com/UW-eScience-WinterSchool/Python_Session/raw/main/countryCodesHDI.xlsx\"\n",
    "hdidata=pd.read_excel(linkHDI)"
   ]
  },
  {
   "cell_type": "markdown",
   "id": "protecting-laser",
   "metadata": {},
   "source": [
    "### 2. Check column names"
   ]
  },
  {
   "cell_type": "code",
   "execution_count": null,
   "id": "local-crime",
   "metadata": {},
   "outputs": [],
   "source": [
    "democracy.columns"
   ]
  },
  {
   "cell_type": "code",
   "execution_count": null,
   "id": "applicable-cisco",
   "metadata": {},
   "outputs": [],
   "source": [
    "milimoney.columns"
   ]
  },
  {
   "cell_type": "code",
   "execution_count": null,
   "id": "considered-galaxy",
   "metadata": {},
   "outputs": [],
   "source": [
    "hdidata.columns"
   ]
  },
  {
   "cell_type": "markdown",
   "id": "synthetic-message",
   "metadata": {},
   "source": [
    "You checked column names to name the key columns for merge, and to get rid of columns that may bring trouble."
   ]
  },
  {
   "cell_type": "code",
   "execution_count": null,
   "id": "israeli-nowhere",
   "metadata": {},
   "outputs": [],
   "source": [
    "# this renaming will make merge easier\n",
    "hdidata.rename(columns={'NAME':\"Country\"},inplace=True)"
   ]
  },
  {
   "cell_type": "code",
   "execution_count": null,
   "id": "parental-crack",
   "metadata": {},
   "outputs": [],
   "source": [
    "# this dropping will avoid using RANK as a key.\n",
    "democracy.drop(columns=[\"Rank\"],inplace=True)\n",
    "milimoney.drop(columns=[\"Rank\"],inplace=True)"
   ]
  },
  {
   "cell_type": "markdown",
   "id": "nonprofit-clark",
   "metadata": {},
   "source": [
    "### 3. Merge"
   ]
  },
  {
   "cell_type": "code",
   "execution_count": null,
   "id": "medium-celebrity",
   "metadata": {},
   "outputs": [],
   "source": [
    "allmerged=democracy.merge(milimoney)\n",
    "allmerged=allmerged.merge(hdidata)\n",
    "allmerged"
   ]
  },
  {
   "cell_type": "markdown",
   "id": "express-conspiracy",
   "metadata": {},
   "source": [
    "### 4. Preprocessing"
   ]
  },
  {
   "cell_type": "markdown",
   "id": "mounted-feelings",
   "metadata": {},
   "source": [
    "* _Check the strings in column names_:"
   ]
  },
  {
   "cell_type": "code",
   "execution_count": null,
   "id": "important-environment",
   "metadata": {},
   "outputs": [],
   "source": [
    "allmerged.columns.to_list()"
   ]
  },
  {
   "cell_type": "markdown",
   "id": "clear-korea",
   "metadata": {},
   "source": [
    "* _Clean strings_:"
   ]
  },
  {
   "cell_type": "code",
   "execution_count": null,
   "id": "fitting-daisy",
   "metadata": {},
   "outputs": [],
   "source": [
    "#replace '%' by \"share\"\n",
    "allmerged.columns=allmerged.columns.str.replace(\"\\%\",\"share\",regex=True)\n",
    "#replace 'spaces' by \"_\"\n",
    "allmerged.columns=allmerged.columns.str.replace(\"\\s\",\"_\",regex=True)\n",
    "#replace 'whatever is not a character' by \"\"\n",
    "allmerged.columns=allmerged.columns.str.replace(\"\\W\",\"\",regex=True)\n",
    "#current names\n",
    "allmerged.columns.to_list()"
   ]
  },
  {
   "cell_type": "markdown",
   "id": "outstanding-compression",
   "metadata": {},
   "source": [
    "* _Drop MORE unneeded columns_:"
   ]
  },
  {
   "cell_type": "code",
   "execution_count": null,
   "id": "virtual-miller",
   "metadata": {},
   "outputs": [],
   "source": [
    "#take a look:\n",
    "allmerged.columns[allmerged.columns.str.contains(\"Rank|Date|Δ\",regex=True)]"
   ]
  },
  {
   "cell_type": "code",
   "execution_count": null,
   "id": "floating-concrete",
   "metadata": {},
   "outputs": [],
   "source": [
    "#save column to drop\n",
    "toDrop=allmerged.columns[allmerged.columns.str.contains(\"Rank|Date|Δ\",regex=True)]\n",
    "# drop them\n",
    "allmerged.drop(columns=toDrop,inplace=True)\n",
    "# see result\n",
    "allmerged"
   ]
  },
  {
   "cell_type": "markdown",
   "id": "major-choir",
   "metadata": {},
   "source": [
    "* _Look for missing values and check for wrong data types_:"
   ]
  },
  {
   "cell_type": "code",
   "execution_count": null,
   "id": "stopped-offset",
   "metadata": {},
   "outputs": [],
   "source": [
    "allmerged.info()"
   ]
  },
  {
   "cell_type": "markdown",
   "id": "widespread-syndrome",
   "metadata": {},
   "source": [
    "a. Some missing values can be corrected, others cannot:"
   ]
  },
  {
   "cell_type": "code",
   "execution_count": null,
   "id": "academic-preview",
   "metadata": {},
   "outputs": [],
   "source": [
    "allmerged[allmerged.isnull().any(axis=1)]"
   ]
  },
  {
   "cell_type": "markdown",
   "id": "handled-jefferson",
   "metadata": {},
   "source": [
    "We can not use Taiwan, but Namibia can be kept."
   ]
  },
  {
   "cell_type": "code",
   "execution_count": null,
   "id": "brutal-crowd",
   "metadata": {},
   "outputs": [],
   "source": [
    "allmerged.loc[:,'ISO2'][pd.isnull(allmerged.ISO2)]='NA'"
   ]
  },
  {
   "cell_type": "markdown",
   "id": "expensive-spoke",
   "metadata": {},
   "source": [
    "Dropping rows with missing values:"
   ]
  },
  {
   "cell_type": "code",
   "execution_count": null,
   "id": "cardiac-paris",
   "metadata": {},
   "outputs": [],
   "source": [
    "allmerged.dropna(inplace=True)\n",
    "allmerged.reset_index(drop=True,inplace=True)\n",
    "allmerged"
   ]
  },
  {
   "cell_type": "markdown",
   "id": "precious-astronomy",
   "metadata": {},
   "source": [
    "b. Convert string to numerical"
   ]
  },
  {
   "cell_type": "code",
   "execution_count": null,
   "id": "russian-pottery",
   "metadata": {},
   "outputs": [],
   "source": [
    "toNumeric=['Overall_score',\n",
    " 'Electoral_process_and_pluralism', \n",
    " 'Functioning_of_government',\n",
    " 'Political_participation', 'Political_culture', 'Civil_liberties']\n",
    "allmerged.loc[:,toNumeric]=allmerged.loc[:,toNumeric].apply(lambda x: pd.to_numeric(x))"
   ]
  },
  {
   "cell_type": "markdown",
   "id": "knowing-tablet",
   "metadata": {},
   "source": [
    "c. Check ordinal variable:"
   ]
  },
  {
   "cell_type": "code",
   "execution_count": null,
   "id": "alternate-pizza",
   "metadata": {},
   "outputs": [],
   "source": [
    "#check levels:\n",
    "set(allmerged.Regime_type)"
   ]
  },
  {
   "cell_type": "code",
   "execution_count": null,
   "id": "swiss-thesis",
   "metadata": {},
   "outputs": [],
   "source": [
    "levels=['Authoritarian', 'Hybrid regime','Flawed democracy', 'Full democracy']\n",
    "allmerged.Regime_type=pd.Categorical(allmerged.Regime_type,\n",
    "                                     categories=levels,\n",
    "                                     ordered=True)"
   ]
  },
  {
   "cell_type": "code",
   "execution_count": null,
   "id": "scenic-sharp",
   "metadata": {},
   "outputs": [],
   "source": [
    "allmerged.Regime_type"
   ]
  },
  {
   "cell_type": "code",
   "execution_count": null,
   "id": "anticipated-alfred",
   "metadata": {},
   "outputs": [],
   "source": [
    "# review:\n",
    "allmerged.info()"
   ]
  },
  {
   "cell_type": "markdown",
   "id": "worse-friend",
   "metadata": {},
   "source": [
    "### 4. Save your work"
   ]
  },
  {
   "cell_type": "markdown",
   "id": "false-aggregate",
   "metadata": {},
   "source": [
    "* _Save data for R_:"
   ]
  },
  {
   "cell_type": "code",
   "execution_count": null,
   "id": "outside-gnome",
   "metadata": {},
   "outputs": [],
   "source": [
    "from rpy2.robjects import pandas2ri\n",
    "pandas2ri.activate()\n",
    "\n",
    "from rpy2.robjects.packages import importr\n",
    "\n",
    "base = importr('base')\n",
    "base.saveRDS(allmerged,file=\"allmerged.rds\")"
   ]
  }
 ],
 "metadata": {
  "hide_input": false,
  "kernelspec": {
   "display_name": "Python 3",
   "language": "python",
   "name": "python3"
  },
  "language_info": {
   "codemirror_mode": {
    "name": "ipython",
    "version": 3
   },
   "file_extension": ".py",
   "mimetype": "text/x-python",
   "name": "python",
   "nbconvert_exporter": "python",
   "pygments_lexer": "ipython3",
   "version": "3.8.6"
  }
 },
 "nbformat": 4,
 "nbformat_minor": 5
}
